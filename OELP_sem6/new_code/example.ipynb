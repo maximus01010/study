{
 "cells": [
  {
   "cell_type": "code",
   "execution_count": 5,
   "metadata": {},
   "outputs": [
    {
     "name": "stdout",
     "output_type": "stream",
     "text": [
      "   Observed Data  Ensemble Mean Prediction  Ensemble Std Deviation Prediction\n",
      "0      13.528105                 11.667888                           0.801021\n",
      "1      10.800314                 12.677422                           0.821831\n",
      "2      11.957476                  8.733056                           0.206506\n",
      "3      14.481786                 10.314142                           1.038198\n",
      "4      13.735116                 10.684160                           0.193606\n"
     ]
    }
   ],
   "source": [
    "import numpy as np\n",
    "import pandas as pd\n",
    "from sklearn.model_selection import train_test_split\n",
    "from sklearn.metrics import mean_squared_error\n",
    "import xgboost as xgb\n",
    "\n",
    "# Generate synthetic dataset\n",
    "np.random.seed(0)\n",
    "n_samples = 1000\n",
    "observed_data = np.random.normal(loc=10, scale=2, size=n_samples)  # Observed data\n",
    "ensemble_mean_mod = np.random.normal(loc=10, scale=3, size=n_samples)  # Ensemble mean predictions\n",
    "ensemble_std_mod = np.random.uniform(low=0, high=2, size=n_samples)  # Ensemble standard deviation predictions\n",
    "\n",
    "# Create a DataFrame\n",
    "data = pd.DataFrame({\n",
    "    'Observed Data': observed_data,\n",
    "    'Ensemble Mean Prediction': ensemble_mean_mod,\n",
    "    'Ensemble Std Deviation Prediction': ensemble_std_mod\n",
    "})\n",
    "\n",
    "# Display the first few rows of the dataset\n",
    "print(data.head())\n"
   ]
  },
  {
   "cell_type": "code",
   "execution_count": 6,
   "metadata": {},
   "outputs": [
    {
     "name": "stdout",
     "output_type": "stream",
     "text": [
      "Mean Squared Error: 5.792258874788212\n"
     ]
    }
   ],
   "source": [
    "# Splitting the data into training and testing sets\n",
    "X = data.drop('Observed Data', axis=1)\n",
    "y = data['Observed Data']\n",
    "X_train, X_test, y_train, y_test = train_test_split(X, y, test_size=0.2, random_state=42)\n",
    "\n",
    "# Defining the XGBoost model\n",
    "model = xgb.XGBRegressor(objective ='reg:squarederror', seed=42)\n",
    "\n",
    "# Training the XGBoost model\n",
    "model.fit(X_train, y_train)\n",
    "\n",
    "# Making predictions on the test set\n",
    "y_pred = model.predict(X_test)\n",
    "\n",
    "# Calculating mean squared error\n",
    "mse = mean_squared_error(y_test, y_pred)\n",
    "print(\"Mean Squared Error:\", mse)\n"
   ]
  }
 ],
 "metadata": {
  "kernelspec": {
   "display_name": "Python 3",
   "language": "python",
   "name": "python3"
  },
  "language_info": {
   "codemirror_mode": {
    "name": "ipython",
    "version": 3
   },
   "file_extension": ".py",
   "mimetype": "text/x-python",
   "name": "python",
   "nbconvert_exporter": "python",
   "pygments_lexer": "ipython3",
   "version": "3.10.12"
  }
 },
 "nbformat": 4,
 "nbformat_minor": 2
}
