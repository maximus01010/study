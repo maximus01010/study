{
 "cells": [
  {
   "cell_type": "markdown",
   "metadata": {},
   "source": [
    "lists   "
   ]
  },
  {
   "cell_type": "code",
   "execution_count": 4,
   "metadata": {},
   "outputs": [
    {
     "name": "stdout",
     "output_type": "stream",
     "text": [
      "[1, 2, 'hehe']\n",
      "3\n"
     ]
    }
   ],
   "source": [
    "a=[1,2,'hehe']\n",
    "print(a)\n",
    "print(len(a))"
   ]
  },
  {
   "cell_type": "markdown",
   "metadata": {},
   "source": [
    "                        Tuple\n",
    "Tuple-once created it cannot be modified"
   ]
  },
  {
   "cell_type": "code",
   "execution_count": 5,
   "metadata": {},
   "outputs": [
    {
     "name": "stdout",
     "output_type": "stream",
     "text": [
      "(2, 'hii')\n"
     ]
    }
   ],
   "source": [
    "a=(2,'hii')\n",
    "print(a)"
   ]
  },
  {
   "cell_type": "markdown",
   "metadata": {},
   "source": [
    "set"
   ]
  },
  {
   "cell_type": "code",
   "execution_count": 10,
   "metadata": {},
   "outputs": [
    {
     "name": "stdout",
     "output_type": "stream",
     "text": [
      "{0, 1, 2, 3, 'hi', 'bye'}\n",
      "0\n",
      "1\n",
      "2\n",
      "3\n",
      "hi\n",
      "bye\n"
     ]
    }
   ],
   "source": [
    "s=set([1,3,2,'hi','hi','bye',2,0])\n",
    "print(s)\n",
    "for i in s:\n",
    "    print(i)"
   ]
  },
  {
   "cell_type": "markdown",
   "metadata": {},
   "source": [
    "dictionary"
   ]
  },
  {
   "cell_type": "code",
   "execution_count": 18,
   "metadata": {},
   "outputs": [
    {
     "name": "stdout",
     "output_type": "stream",
     "text": [
      "{1: 2, 3: 'hmm', 0: [1, 2, 3, 4, 5, 6], 'hi': 44}\n",
      "[1, 2, 3, 4, 5, 6] 44\n"
     ]
    }
   ],
   "source": [
    "d={1:2,3:'hmm',0:[1,2,3,4,5,6],'hi':44}\n",
    "print(d)\n",
    "print(d[0],d['hi'])"
   ]
  },
  {
   "cell_type": "markdown",
   "metadata": {},
   "source": [
    "matrix"
   ]
  },
  {
   "cell_type": "code",
   "execution_count": 38,
   "metadata": {},
   "outputs": [
    {
     "name": "stdout",
     "output_type": "stream",
     "text": [
      "[[ 1  2  3  4]\n",
      " [ 4 55  1  2]\n",
      " [ 8  3 20 19]]\n",
      "[[ 1  2  3  4]\n",
      " [ 4 55  1  2]\n",
      " [ 8  3 20 19]\n",
      " [ 1 15 13 11]]\n",
      "[1 2 3 4]\n",
      "[[ 1  2  3  4]\n",
      " [ 4 55  1  2]\n",
      " [ 1 15 13 11]]\n"
     ]
    }
   ],
   "source": [
    "import numpy as np \n",
    "a = np.array([[1,2,3,4],[4,55,1,2],\n",
    "              [8,3,20,19]])\n",
    "m = np.reshape(a,(3, 4))\n",
    "print(m)\n",
    "m = np.append(m,[[1, 15,13,11]],0)\n",
    "print(m)\n",
    "print(m[0])\n",
    "m=np.delete(m,[2],0)\n",
    "print(m)"
   ]
  },
  {
   "cell_type": "markdown",
   "metadata": {},
   "source": [
    "linked list"
   ]
  },
  {
   "cell_type": "code",
   "execution_count": null,
   "metadata": {},
   "outputs": [],
   "source": []
  }
 ],
 "metadata": {
  "kernelspec": {
   "display_name": "Python 3",
   "language": "python",
   "name": "python3"
  },
  "language_info": {
   "codemirror_mode": {
    "name": "ipython",
    "version": 3
   },
   "file_extension": ".py",
   "mimetype": "text/x-python",
   "name": "python",
   "nbconvert_exporter": "python",
   "pygments_lexer": "ipython3",
   "version": "3.10.12"
  }
 },
 "nbformat": 4,
 "nbformat_minor": 2
}
